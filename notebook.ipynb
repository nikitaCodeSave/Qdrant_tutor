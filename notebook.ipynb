{
 "cells": [
  {
   "cell_type": "code",
   "execution_count": 2,
   "id": "1643cdf0",
   "metadata": {},
   "outputs": [
    {
     "name": "stderr",
     "output_type": "stream",
     "text": [
      "/home/nikita/PROJECTS/Pydantic-ai/.venv/lib/python3.12/site-packages/tqdm/auto.py:21: TqdmWarning: IProgress not found. Please update jupyter and ipywidgets. See https://ipywidgets.readthedocs.io/en/stable/user_install.html\n",
      "  from .autonotebook import tqdm as notebook_tqdm\n"
     ]
    },
    {
     "name": "stdout",
     "output_type": "stream",
     "text": [
      "QdrantClient инициализирован в локальном режиме. Данные будут храниться в: ./qdrant_storage\n"
     ]
    }
   ],
   "source": [
    "\n",
    "\n",
    "import os\n",
    "import time\n",
    "from qdrant_client import QdrantClient\n",
    "from qdrant_client.models import (\n",
    "    Distance,\n",
    "    VectorParams,\n",
    "    PointStruct,\n",
    "    Filter,\n",
    ")\n",
    "from sentence_transformers import SentenceTransformer\n",
    "\n",
    "\n",
    "DB_PATH = \"./qdrant_storage\"\n",
    "\n",
    "# Убеждаемся, что директория для базы данных существует.\n",
    "# Если директория не существует, она будет создана. Это предотвращает ошибки\n",
    "# при попытке Qdrant записать данные в несуществующее место.\n",
    "os.makedirs(DB_PATH, exist_ok=True)\n",
    "\n",
    "# Инициализируем QdrantClient с обработкой ошибок подключения\n",
    "max_retries = 3\n",
    "retry_delay = 2  # seconds\n",
    "client = None\n",
    "\n",
    "for attempt in range(max_retries):\n",
    "    try:\n",
    "        # Закрываем все существующие соединения клиента, если они есть\n",
    "        if client is not None:\n",
    "            try:\n",
    "                client.close()\n",
    "            except:\n",
    "                pass\n",
    "\n",
    "        # Создаем нового клиента с новым соединением\n",
    "        client = QdrantClient(\n",
    "            path=DB_PATH\n",
    "        )\n",
    "        # Проверяем соединение, чтобы убедиться, что оно работает\n",
    "        collections = client.get_collections()\n",
    "        break  # Успех - выходим из цикла повторных попыток\n",
    "    except Exception as e:\n",
    "        if attempt < max_retries - 1:\n",
    "            print(f\"Qdrant connection attempt {attempt + 1} failed: {e}. Retrying in {retry_delay}s...\")\n",
    "            time.sleep(retry_delay)\n",
    "            retry_delay *= 2  # Экспоненциальная задержка\n",
    "        else:\n",
    "            print(f\"Не удалось подключиться к Qdrant после {max_retries} попыток: {e}\")\n",
    "            raise\n",
    "\n",
    "print(f\"QdrantClient инициализирован в локальном режиме. Данные будут храниться в: {DB_PATH}\")"
   ]
  },
  {
   "cell_type": "code",
   "execution_count": 3,
   "id": "63d9aaff",
   "metadata": {},
   "outputs": [
    {
     "name": "stdout",
     "output_type": "stream",
     "text": [
      "Модель ai-forever/FRIDA успешно загружена и кэширована в: ./models/frida\n",
      "Модель FRIDA использует устройство: cuda\n"
     ]
    }
   ],
   "source": [
    "from sentence_transformers import SentenceTransformer\n",
    "import torch\n",
    "\n",
    "\n",
    "# Определяем путь для кэширования модели эмбеддингов.\n",
    "# Это позволяет избежать повторной загрузки модели при каждом запуске.\n",
    "MODEL_CACHE_FOLDER = \"./models/frida\"\n",
    "os.makedirs(MODEL_CACHE_FOLDER, exist_ok=True)\n",
    "\n",
    "# Загружаем модель ai-forever/FRIDA.\n",
    "# cache_folder: Указывает директорию для сохранения загруженных файлов модели.\n",
    "# trust_remote_code=True: Этот параметр необходим для некоторых моделей из Hugging Face Hub,\n",
    "# которые содержат пользовательский код в своих репозиториях. Его установка в True\n",
    "# разрешает выполнение этого удаленного кода на локальной машине.\n",
    "# Важно отметить, что этот параметр следует использовать с осторожностью и только для\n",
    "# моделей из доверенных источников, так как он может представлять потенциальный риск безопасности,\n",
    "# если код не был проверен.[3, 4]\n",
    "try:\n",
    "    encoder = SentenceTransformer(\"ai-forever/FRIDA\", cache_folder=MODEL_CACHE_FOLDER, trust_remote_code=True)\n",
    "    print(f\"Модель ai-forever/FRIDA успешно загружена и кэширована в: {MODEL_CACHE_FOLDER}\")\n",
    "\n",
    "    # Проверяем наличие GPU (CUDA) и перемещаем модель на соответствующее устройство для ускорения вычислений,\n",
    "    # если GPU доступен. Это значительно повышает производительность при генерации эмбеддингов,\n",
    "    # особенно для больших объемов текста.[4]\n",
    "    device = \"cuda\" if torch.cuda.is_available() else \"cpu\"\n",
    "    encoder.to(device)\n",
    "    print(f\"Модель FRIDA использует устройство: {device}\")\n",
    "\n",
    "except Exception as e:\n",
    "    print(f\"Ошибка при загрузке модели: {e}\")"
   ]
  },
  {
   "cell_type": "code",
   "execution_count": 4,
   "id": "ddd83920",
   "metadata": {},
   "outputs": [
    {
     "name": "stderr",
     "output_type": "stream",
     "text": [
      "Batches: 100%|██████████| 1/1 [00:00<00:00,  4.29it/s]"
     ]
    },
    {
     "name": "stdout",
     "output_type": "stream",
     "text": [
      "Размерность сгенерированных эмбеддингов: (3, 1536)\n",
      "Размерность одного эмбеддинга: 1536\n"
     ]
    },
    {
     "name": "stderr",
     "output_type": "stream",
     "text": [
      "\n"
     ]
    }
   ],
   "source": [
    "texts = [\"Привет, мир!\", \"Как дела?\", \"Это тестовое предложение.\"]\n",
    "embeddings = encoder.encode(texts, \n",
    "                            convert_to_tensor=False, \n",
    "                            show_progress_bar=True, \n",
    "                            normalize_embeddings=True,\n",
    "                            prompt=\"search_documents\")\n",
    "print(f\"Размерность сгенерированных эмбеддингов: {embeddings.shape}\")\n",
    "print(f\"Размерность одного эмбеддинга: {encoder.get_sentence_embedding_dimension()}\")"
   ]
  },
  {
   "cell_type": "markdown",
   "id": "d02c20b0",
   "metadata": {},
   "source": [
    "**При выборе префикса мы используем следующие основные правила:**\n",
    "\n",
    "- \"search_query: \"и \"search_document: \"префиксы предназначены для ответа или поиска соответствующего абзаца\n",
    "- \"paraphrase: \"префикс для задач, связанных с симметричным перефразированием (STS, анализ парафраз, дедупликация)\n",
    "- \"categorize: \"префикс предназначен для асимметричного сопоставления заголовка и текста документа (например, новости, научные статьи, социальные посты)\n",
    "- \"categorize_sentiment: \"префикс используется для любых задач, которые зависят от особенностей настроений - (например, ненависть, токсичность, эмоции)\n",
    "- \"categorize_topic: \"префикс предназначен для задач, где необходимо сгруппировать тексты по темам\n",
    "- \"categorize_entailment: \"префикс для текстовой задачи вывода (NLI)"
   ]
  },
  {
   "cell_type": "code",
   "execution_count": 5,
   "id": "c0332062",
   "metadata": {},
   "outputs": [
    {
     "data": {
      "text/plain": [
       "numpy.ndarray"
      ]
     },
     "execution_count": 5,
     "metadata": {},
     "output_type": "execute_result"
    }
   ],
   "source": [
    "type(embeddings)"
   ]
  },
  {
   "cell_type": "markdown",
   "id": "37281589",
   "metadata": {},
   "source": [
    "**Создание новой коллекции**\n",
    "\n",
    "Для создания новой коллекции необходимо указать ее имя и конфигурацию векторов, \n",
    "включая размерность (количество измерений) и метрику расстояния, \n",
    "которая будет использоваться для измерения сходства между векторами. \n",
    "Выбор метрики расстояния (например, косинусное сходство, скалярное произведение, евклидово расстояние) зависит от того, как была обучена модель эмбеддингов."
   ]
  },
  {
   "cell_type": "code",
   "execution_count": 6,
   "id": "dfd49ee3",
   "metadata": {},
   "outputs": [
    {
     "name": "stdout",
     "output_type": "stream",
     "text": [
      "Коллекция 'my_first_collection' уже существует. Пропускаем создание.\n"
     ]
    }
   ],
   "source": [
    "COLLECTION_NAME = \"my_first_collection\"\n",
    "\n",
    "# Создаем коллекцию в Qdrant, если она еще не существует.\n",
    "if not client.collection_exists(COLLECTION_NAME):\n",
    "    client.create_collection(\n",
    "        collection_name=COLLECTION_NAME,\n",
    "        vectors_config=VectorParams(\n",
    "            size=encoder.get_sentence_embedding_dimension(), # Размерность эмбеддингов\n",
    "            distance=Distance.COSINE # Используем косинусное расстояние для сравнения векторов\n",
    "        )\n",
    "    )\n",
    "    print(f\"Коллекция '{COLLECTION_NAME}' успешно создана.\")\n",
    "else:\n",
    "    print(f\"Коллекция '{COLLECTION_NAME}' уже существует. Пропускаем создание.\")"
   ]
  },
  {
   "cell_type": "markdown",
   "id": "3c01abc5",
   "metadata": {},
   "source": [
    "### [ссылка](https://api.qdrant.tech/v-1-12-x/api-reference/collections/get-collections) на апи qdrant"
   ]
  },
  {
   "cell_type": "code",
   "execution_count": 7,
   "id": "3400fbd3",
   "metadata": {},
   "outputs": [
    {
     "name": "stdout",
     "output_type": "stream",
     "text": [
      "Существующие коллекции в Qdrant:\n",
      "- cooking\n",
      "- my_first_collection\n"
     ]
    }
   ],
   "source": [
    "collections = client.get_collections()\n",
    "print(\"Существующие коллекции в Qdrant:\")\n",
    "for collection in collections.collections:\n",
    "    print(f\"- {collection.name}\")"
   ]
  },
  {
   "cell_type": "code",
   "execution_count": 8,
   "id": "02f8b7d3",
   "metadata": {},
   "outputs": [
    {
     "name": "stdout",
     "output_type": "stream",
     "text": [
      "\n",
      "Детали коллекции 'my_first_collection':\n",
      "  Статус: green\n",
      "  Количество точек: 2\n",
      "  Конфигурация векторов: params=CollectionParams(vectors=VectorParams(size=1536, distance=<Distance.COSINE: 'Cosine'>, hnsw_config=None, quantization_config=None, on_disk=None, datatype=None, multivector_config=None), shard_number=None, sharding_method=None, replication_factor=None, write_consistency_factor=None, read_fan_out_factor=None, on_disk_payload=None, sparse_vectors=None) hnsw_config=HnswConfig(m=16, ef_construct=100, full_scan_threshold=10000, max_indexing_threads=0, on_disk=None, payload_m=None) optimizer_config=OptimizersConfig(deleted_threshold=0.2, vacuum_min_vector_number=1000, default_segment_number=0, max_segment_size=None, memmap_threshold=None, indexing_threshold=20000, flush_interval_sec=5, max_optimization_threads=1) wal_config=WalConfig(wal_capacity_mb=32, wal_segments_ahead=0) quantization_config=None strict_mode_config=None\n",
      "  Схема полезной нагрузки (индексы): {}\n"
     ]
    }
   ],
   "source": [
    "if client.collection_exists(collection_name=COLLECTION_NAME):\n",
    "    collection_info = client.get_collection(collection_name=COLLECTION_NAME)\n",
    "    print(f\"\\nДетали коллекции '{COLLECTION_NAME}':\")\n",
    "    print(f\"  Статус: {collection_info.status}\")\n",
    "    print(f\"  Количество точек: {collection_info.points_count}\")\n",
    "    print(f\"  Конфигурация векторов: {collection_info.config}\")\n",
    "    print(f\"  Схема полезной нагрузки (индексы): {collection_info.payload_schema}\")\n",
    "else:\n",
    "    print(f\"\\nКоллекция '{COLLECTION_NAME}' не найдена.\")"
   ]
  },
  {
   "cell_type": "markdown",
   "id": "201c53e3",
   "metadata": {},
   "source": [
    "Получение информации о payload_schema особенно важно, так как оно показывает, \n",
    "какие поля полезной нагрузки были проиндексированы. \n",
    "Это знание критически важно для эффективной фильтрации, поскольку фильтрация по проиндексированным полям значительно быстрее. [ccылка](https://qdrant.tech/documentation/database-tutorials/automate-filtering-with-llms/)"
   ]
  },
  {
   "cell_type": "markdown",
   "id": "d82930fd",
   "metadata": {},
   "source": [
    "**Редактирование конфигурации коллекции**\n",
    "\n",
    "Qdrant позволяет обновлять конфигурацию существующей коллекции, например, \n",
    "изменять параметры HNSW индекса, настройки оптимизаторов или параметры квантования. \n",
    "Это может быть полезно для тонкой настройки производительности коллекции после ее создания.\n",
    "[Документация](https://python-client.qdrant.tech/qdrant_client.qdrant_client)"
   ]
  },
  {
   "cell_type": "code",
   "execution_count": 9,
   "id": "842632a8",
   "metadata": {},
   "outputs": [
    {
     "name": "stdout",
     "output_type": "stream",
     "text": [
      "\n",
      "Конфигурация HNSW для коллекции 'my_first_collection' обновлена.\n"
     ]
    }
   ],
   "source": [
    "from qdrant_client.models import HnswConfigDiff\n",
    "\n",
    "# Обновляем параметры HNSW для коллекции.\n",
    "# m: определяет количество связей на узел в графе HNSW. Более высокое значение увеличивает точность поиска,\n",
    "# но требует больше памяти и времени на построение индекса.\n",
    "# ef_construct: контролирует размер диапазона поиска во время построения индекса. Большее значение\n",
    "# улучшает точность индекса, но увеличивает время построения.[10]\n",
    "try:\n",
    "    client.update_collection(\n",
    "        collection_name=COLLECTION_NAME,\n",
    "        hnsw_config=HnswConfigDiff(\n",
    "            m=16, # Уменьшено для примера, по умолчанию может быть 16 или 32\n",
    "            ef_construct=100 # По умолчанию 100\n",
    "        )\n",
    "    )\n",
    "    print(f\"\\nКонфигурация HNSW для коллекции '{COLLECTION_NAME}' обновлена.\")\n",
    "except Exception as e:\n",
    "    print(f\"\\nОшибка при обновлении конфигурации коллекции: {e}\")"
   ]
  },
  {
   "cell_type": "markdown",
   "id": "1625cb1d",
   "metadata": {},
   "source": [
    "[Статья из документации](https://qdrant.tech/articles/vector-search-resource-optimization/)"
   ]
  },
  {
   "cell_type": "markdown",
   "id": "91a3b634",
   "metadata": {},
   "source": [
    "**Удаление коллекции**\n",
    "\n",
    "Удаление коллекции полностью очищает все данные и связанную с ней конфигурацию. \n",
    "Это необратимая операция, поэтому следует использовать ее с осторожностью."
   ]
  },
  {
   "cell_type": "code",
   "execution_count": 10,
   "id": "0a3b7510",
   "metadata": {},
   "outputs": [
    {
     "name": "stdout",
     "output_type": "stream",
     "text": [
      "\n",
      "Коллекция 'my_first_collection' успешно удалена.\n"
     ]
    }
   ],
   "source": [
    "# Удаление коллекции для очистки среды после примеров.\n",
    "if client.collection_exists(collection_name=COLLECTION_NAME):\n",
    "    client.delete_collection(collection_name=COLLECTION_NAME)\n",
    "    print(f\"\\nКоллекция '{COLLECTION_NAME}' успешно удалена.\")\n",
    "else:\n",
    "    print(f\"\\nКоллекция '{COLLECTION_NAME}' не существует, удаление не требуется.\")"
   ]
  },
  {
   "cell_type": "markdown",
   "id": "478ff20b",
   "metadata": {},
   "source": [
    "**Работа с Точками (Векторами и Полезной Нагрузкой)**\n",
    "\n",
    "Точки являются центральными сущностями, с которыми оперирует Qdrant. \n",
    "Каждая точка состоит из вектора (или нескольких векторов) и необязательной полезной нагрузки (payload), \n",
    "которая представляет собой произвольные метаданные, связанные с вектором.   \n",
    "\n"
   ]
  },
  {
   "cell_type": "code",
   "execution_count": 11,
   "id": "c2b7b510",
   "metadata": {},
   "outputs": [
    {
     "name": "stderr",
     "output_type": "stream",
     "text": [
      "Batches: 100%|██████████| 1/1 [00:00<00:00, 116.72it/s]"
     ]
    },
    {
     "name": "stdout",
     "output_type": "stream",
     "text": [
      "\n",
      "Сгенерировано 3 эмбеддингов.\n"
     ]
    },
    {
     "name": "stderr",
     "output_type": "stream",
     "text": [
      "\n"
     ]
    }
   ],
   "source": [
    "# Пример текстовых данных для индексации\n",
    "documents = [\n",
    "    {\"id\": 1,\n",
    "     \"text\": \"Привет, мир!\",\n",
    "     \"category\": \"greeting\"},\n",
    "    {\"id\": 2,\n",
    "     \"text\": \"Как дела?\",\n",
    "     \"category\": \"greeting\"},\n",
    "    {\"id\": 3,\n",
    "     \"text\": \"Это тестовое предложение.\",\n",
    "     \"category\": \"test\"}\n",
    "]\n",
    "\n",
    "# Генерируем эмбеддинги для текстовых данных\n",
    "# convert_to_tensor=False, так как Qdrant ожидает список Python, а не тензор PyTorch.\n",
    "document_vectors = encoder.encode([doc[\"text\"] for doc in documents], convert_to_tensor=False,\n",
    "                                   show_progress_bar=True, \n",
    "                                   normalize_embeddings=True,\n",
    "                                   prompt=\"search_documents\").tolist()\n",
    "\n",
    "print(f\"\\nСгенерировано {len(document_vectors)} эмбеддингов.\")"
   ]
  },
  {
   "cell_type": "markdown",
   "id": "29111b4f",
   "metadata": {},
   "source": [
    "**Добавление и обновление точек (Upserting points)**\n",
    "\n",
    "Операция upsert в Qdrant позволяет одновременно вставлять новые точки и обновлять существующие.\n",
    "\n",
    "Если точка с указанным ID уже существует, она будет перезаписана;\n",
    "\n",
    "в противном случае будет создана новая точка. \n",
    "\n",
    "Это делает операции идемпотентными, что упрощает управление данными.   "
   ]
  },
  {
   "cell_type": "code",
   "execution_count": 12,
   "id": "22693d9c",
   "metadata": {},
   "outputs": [
    {
     "name": "stdout",
     "output_type": "stream",
     "text": [
      "Коллекция 'my_first_collection' создана для добавления точек.\n",
      "\n",
      "Операция upsert завершена: completed. Количество точек: 3\n",
      "Точка с ID 9 добавлена/обновлена.\n"
     ]
    }
   ],
   "source": [
    "# Создаем коллекцию, если она была удалена в предыдущем примере\n",
    "if not client.collection_exists(collection_name=COLLECTION_NAME):\n",
    "    client.create_collection(\n",
    "        collection_name=COLLECTION_NAME,\n",
    "        vectors_config=VectorParams(size=encoder.get_sentence_embedding_dimension(), \n",
    "                                    distance=Distance.COSINE),\n",
    "    )\n",
    "    print(f\"Коллекция '{COLLECTION_NAME}' создана для добавления точек.\")\n",
    "\n",
    "# Подготавливаем точки для upsert\n",
    "points_to_upsert = []\n",
    "for doc, vector in zip(documents, document_vectors):\n",
    "    points_to_upsert.append(\n",
    "        PointStruct(\n",
    "            id=doc[\"id\"],\n",
    "            vector=vector,\n",
    "            payload={\n",
    "                \"text\": doc[\"text\"],\n",
    "                \"category\": doc[\"category\"]\n",
    "            }\n",
    "        )\n",
    "    )\n",
    "# Выполняем массовую загрузку (upsert) точек\n",
    "operation_info = client.upsert(\n",
    "    collection_name=COLLECTION_NAME,\n",
    "    wait=True, # Ожидаем завершения операции\n",
    "    points=points_to_upsert\n",
    ")\n",
    "print(f\"\\nОперация upsert завершена: {operation_info.status}. Количество точек: {len(points_to_upsert)}\")\n",
    "\n",
    "# Добавляем новую точку или обновляем существующую\n",
    "new_document = {\"id\": 9, \"text\": \"Пример новой точки для демонстрации обновления.\", \"category\": \"new_data\"}\n",
    "new_vector = encoder.encode([new_document[\"text\"]], convert_to_tensor=False).tolist()\n",
    "\n",
    "client.upsert(\n",
    "    collection_name=COLLECTION_NAME,\n",
    "    wait=True,\n",
    "    points=[\n",
    "        PointStruct(\n",
    "            id=new_document[\"id\"],\n",
    "            vector=new_vector,\n",
    "            payload={\n",
    "                \"text\": new_document[\"text\"],\n",
    "                \"category\": new_document[\"category\"]\n",
    "            }\n",
    "        )\n",
    "    ]\n",
    ")\n",
    "print(f\"Точка с ID {new_document['id']} добавлена/обновлена.\")"
   ]
  },
  {
   "cell_type": "markdown",
   "id": "3bdea454",
   "metadata": {},
   "source": [
    "**Существует метод получения точек по их идентификаторам.***"
   ]
  },
  {
   "cell_type": "code",
   "execution_count": 13,
   "id": "58303049",
   "metadata": {},
   "outputs": [
    {
     "data": {
      "text/plain": [
       "[Record(id=2, payload={'text': 'Как дела?', 'category': 'greeting'}, vector=None, shard_key=None, order_value=None)]"
      ]
     },
     "execution_count": 13,
     "metadata": {},
     "output_type": "execute_result"
    }
   ],
   "source": [
    "client.retrieve(\n",
    "    collection_name=COLLECTION_NAME,\n",
    "    ids=[2],\n",
    "    with_payload=True,\n",
    "    # with_vectors=True,\n",
    ")"
   ]
  },
  {
   "cell_type": "markdown",
   "id": "acb27862",
   "metadata": {},
   "source": [
    "**Фильрация по payload \\ metadata**\n",
    "\n",
    "Vожет возникнуть необходимость получить все сохраненные точки, не зная идентификаторов, \n",
    "\n",
    "или выполнить итерацию по точкам, соответствующим фильтру.\n",
    "\n",
    "[Документация](https://qdrant.tech/documentation/concepts/points/?q=retrieve#retrieve-points)"
   ]
  },
  {
   "cell_type": "code",
   "execution_count": 14,
   "id": "4aaf19b6",
   "metadata": {},
   "outputs": [
    {
     "data": {
      "text/plain": [
       "([Record(id=1, payload={'text': 'Привет, мир!', 'category': 'greeting'}, vector=None, shard_key=None, order_value=None),\n",
       "  Record(id=2, payload={'text': 'Как дела?', 'category': 'greeting'}, vector=None, shard_key=None, order_value=None)],\n",
       " None)"
      ]
     },
     "execution_count": 14,
     "metadata": {},
     "output_type": "execute_result"
    }
   ],
   "source": [
    "from qdrant_client.models import Filter, FieldCondition, MatchValue\n",
    "\n",
    "client.scroll(\n",
    "    collection_name=COLLECTION_NAME,\n",
    "    scroll_filter=Filter(\n",
    "        must=[\n",
    "            FieldCondition(key=\"category\", match=MatchValue(value=\"greeting\")),\n",
    "        ]\n",
    "    ),\n",
    "    # limit=2,\n",
    "    with_payload=True,\n",
    "    with_vectors=False,\n",
    ")"
   ]
  },
  {
   "cell_type": "markdown",
   "id": "dfc66785",
   "metadata": {},
   "source": [
    "**Удаление точек**\n",
    "\n",
    "по ID"
   ]
  },
  {
   "cell_type": "code",
   "execution_count": 15,
   "id": "4c5b6e17",
   "metadata": {},
   "outputs": [
    {
     "data": {
      "text/plain": [
       "[]"
      ]
     },
     "execution_count": 15,
     "metadata": {},
     "output_type": "execute_result"
    }
   ],
   "source": [
    "from qdrant_client.models import PointIdsList\n",
    "\n",
    "# Удаление точки по ID\n",
    "client.delete(\n",
    "    collection_name=COLLECTION_NAME,\n",
    "    points_selector=PointIdsList(\n",
    "        points=[1,],  # ID точки для удаления\n",
    "    )\n",
    ")\n",
    "client.retrieve(\n",
    "    collection_name=COLLECTION_NAME,\n",
    "    ids=[1],\n",
    "    with_payload=True,\n",
    "    # with_vectors=True,\n",
    ")"
   ]
  },
  {
   "cell_type": "markdown",
   "id": "42d2d83f",
   "metadata": {},
   "source": [
    "По фильтру"
   ]
  },
  {
   "cell_type": "code",
   "execution_count": 16,
   "id": "299c1ea3",
   "metadata": {},
   "outputs": [
    {
     "name": "stdout",
     "output_type": "stream",
     "text": [
      "Все точки с категорией 'new_data' удалены.\n",
      "\n",
      "Оставшиеся точки в коллекции:\n",
      "([Record(id=2, payload={'text': 'Как дела?', 'category': 'greeting'}, vector=None, shard_key=None, order_value=None), Record(id=3, payload={'text': 'Это тестовое предложение.', 'category': 'test'}, vector=None, shard_key=None, order_value=None)], None)\n"
     ]
    }
   ],
   "source": [
    "client.delete(\n",
    "    collection_name=COLLECTION_NAME,\n",
    "    points_selector=Filter(\n",
    "        must=[\n",
    "            FieldCondition(\n",
    "                key=\"category\", \n",
    "                match=MatchValue(value=\"new_data\")),\n",
    "        ]\n",
    "    )\n",
    ")\n",
    "print(\"Все точки с категорией 'new_data' удалены.\")\n",
    "\n",
    "# Проверяем оставшиеся точки\n",
    "remaining_points = client.scroll(\n",
    "    collection_name=COLLECTION_NAME,\n",
    "    limit=10,\n",
    "    with_payload=True\n",
    ")\n",
    "print(\"\\nОставшиеся точки в коллекции:\")\n",
    "print(remaining_points)"
   ]
  },
  {
   "cell_type": "markdown",
   "id": "61a53f62",
   "metadata": {},
   "source": [
    "Удаление по фильтру является мощным инструментом для управления данными, позволяя массово удалять точки, \n",
    "\n",
    "соответствующие определенным критериям, без необходимости предварительного получения их ID.  "
   ]
  },
  {
   "cell_type": "markdown",
   "id": "6729363b",
   "metadata": {},
   "source": [
    "**Подсчет точек в коллекции**\n",
    "\n",
    "Для получения количества точек в коллекции, соответствующих определенному фильтру или всех точек, \n",
    "\n",
    "используется метод count(). Этот метод позволяет получить точное или приблизительное количество, \n",
    "\n",
    "причем приблизительный подсчет выполняется быстрее."
   ]
  },
  {
   "cell_type": "code",
   "execution_count": 17,
   "id": "5d31ec6f",
   "metadata": {},
   "outputs": [
    {
     "name": "stdout",
     "output_type": "stream",
     "text": [
      "\n",
      "Общее количество точек в коллекции 'my_first_collection': count=2\n"
     ]
    }
   ],
   "source": [
    "from qdrant_client.models import Range\n",
    "\n",
    "total_points_count = client.count(\n",
    "    collection_name=COLLECTION_NAME,\n",
    "    exact=True,\n",
    ")\n",
    "print(f\"\\nОбщее количество точек в коллекции '{COLLECTION_NAME}': {total_points_count}\")"
   ]
  },
  {
   "cell_type": "code",
   "execution_count": 18,
   "id": "76021674",
   "metadata": {},
   "outputs": [
    {
     "data": {
      "text/plain": [
       "([Record(id=2, payload={'text': 'Как дела?', 'category': 'greeting'}, vector=None, shard_key=None, order_value=None),\n",
       "  Record(id=3, payload={'text': 'Это тестовое предложение.', 'category': 'test'}, vector=None, shard_key=None, order_value=None)],\n",
       " None)"
      ]
     },
     "execution_count": 18,
     "metadata": {},
     "output_type": "execute_result"
    }
   ],
   "source": [
    "remaining_points = client.scroll(\n",
    "    collection_name=COLLECTION_NAME,\n",
    "    limit=10,\n",
    "    with_payload=True\n",
    ")\n",
    "remaining_points"
   ]
  },
  {
   "cell_type": "code",
   "execution_count": 19,
   "id": "72f8c30e",
   "metadata": {},
   "outputs": [
    {
     "name": "stdout",
     "output_type": "stream",
     "text": [
      "Количество точек с категорией 'greeting': 1\n"
     ]
    }
   ],
   "source": [
    "# Подсчет точек, соответствующих определенному фильтру \n",
    "filtered_points_count = client.count(\n",
    "    collection_name=COLLECTION_NAME,\n",
    "    count_filter=Filter(\n",
    "        must=[\n",
    "            FieldCondition(\n",
    "                key=\"category\", \n",
    "                match=MatchValue(value=\"greeting\")),\n",
    "        ]\n",
    "    ),\n",
    "    exact=True\n",
    ")\n",
    "print(f\"Количество точек с категорией 'greeting': {filtered_points_count.count}\")"
   ]
  },
  {
   "cell_type": "markdown",
   "id": "165407d4",
   "metadata": {},
   "source": [
    "### Векторный Поиск (Vector Search)\n",
    "\n",
    "Векторный поиск, или поиск ближайших соседей (k-NN), является основной функцией Qdrant. \n",
    "\n",
    "Он позволяет находить векторы, наиболее похожие на заданный запрос, в многомерном пространстве. \n",
    "\n",
    "Сходство определяется выбранной метрикой расстояния."
   ]
  },
  {
   "cell_type": "code",
   "execution_count": 69,
   "id": "e32bb0a9",
   "metadata": {},
   "outputs": [
    {
     "name": "stdout",
     "output_type": "stream",
     "text": [
      "\n",
      "Коллекция 'my_first_collection' создана и заполнена для векторного поиска.\n"
     ]
    }
   ],
   "source": [
    "# Повторно создадим коллекцию и добавим данные, если они были удалены\n",
    "if not client.collection_exists(collection_name=COLLECTION_NAME):\n",
    "    client.create_collection(\n",
    "        collection_name=COLLECTION_NAME,\n",
    "        vectors_config=VectorParams(size=VECTOR_SIZE, distance=Distance.COSINE),\n",
    "    )\n",
    "points_to_upsert =[\n",
    "    PointStruct(\n",
    "        id=doc[\"id\"],\n",
    "        vector=vector,\n",
    "        payload={\n",
    "            \"text\": doc[\"text\"],\n",
    "            \"category\": doc[\"category\"]\n",
    "        }\n",
    "    )\n",
    "    for doc, vector in zip(documents, document_vectors)\n",
    "]\n",
    "\n",
    "\n",
    "# Выполняем массовую загрузку (upsert) точек\n",
    "operation_info = client.upsert(\n",
    "    collection_name=COLLECTION_NAME,\n",
    "    wait=True, # Ожидаем завершения операции\n",
    "    points=points_to_upsert\n",
    "    )\n",
    "\n",
    "print(f\"\\nКоллекция '{COLLECTION_NAME}' создана и заполнена для векторного поиска.\")"
   ]
  },
  {
   "cell_type": "code",
   "execution_count": 70,
   "id": "19169b42",
   "metadata": {},
   "outputs": [
    {
     "data": {
      "text/plain": [
       "CountResult(count=3)"
      ]
     },
     "execution_count": 70,
     "metadata": {},
     "output_type": "execute_result"
    }
   ],
   "source": [
    "client.count(\n",
    "    collection_name=COLLECTION_NAME,\n",
    "    exact=True, # Точный подсчет точек в коллекции\n",
    ")"
   ]
  },
  {
   "cell_type": "markdown",
   "id": "1a5bc591",
   "metadata": {},
   "source": [
    "**Базовый поиск**"
   ]
  },
  {
   "cell_type": "code",
   "execution_count": 71,
   "id": "33c0e621",
   "metadata": {},
   "outputs": [
    {
     "name": "stdout",
     "output_type": "stream",
     "text": [
      "\n",
      "Результаты поиска для запроса 'как дела?':\n",
      "ID: 2, Text: Как дела?, Category: greeting, Score: 0.8052579267936519\n",
      "ID: 1, Text: Привет, мир!, Category: greeting, Score: 0.2915120095537881\n",
      "ID: 3, Text: Это тестовое предложение., Category: test, Score: 0.1939931447475377\n"
     ]
    }
   ],
   "source": [
    "query_text = \"как дела?\"\n",
    "query_vector = encoder.encode(query_text, convert_to_tensor=False, normalize_embeddings=True, prompt=\"search_query: \") # .tolist()[0]\n",
    "\n",
    "hits = client.query_points(\n",
    "    collection_name=COLLECTION_NAME,\n",
    "    query=query_vector,\n",
    "    limit=3,  # Ограничиваем количество результатов\n",
    "    with_payload=True,  # Возвращаем полезную нагрузку (payload) для каждого результата\n",
    "    with_vectors=False,  # Не возвращаем векторы, только полезную нагрузку\n",
    ").points\n",
    "print(f\"\\nРезультаты поиска для запроса '{query_text}':\")\n",
    "for hit in hits:\n",
    "    if hit:\n",
    "        print(f\"ID: {hit.id}, Text: {hit.payload['text']}, Category: {hit.payload['category']}, Score: {hit.score}\")\n"
   ]
  },
  {
   "cell_type": "code",
   "execution_count": 72,
   "id": "de1dece5",
   "metadata": {},
   "outputs": [
    {
     "data": {
      "text/plain": [
       "[ScoredPoint(id=2, version=0, score=0.8052579267936519, payload={'text': 'Как дела?', 'category': 'greeting'}, vector=None, shard_key=None, order_value=None),\n",
       " ScoredPoint(id=1, version=0, score=0.2915120095537881, payload={'text': 'Привет, мир!', 'category': 'greeting'}, vector=None, shard_key=None, order_value=None),\n",
       " ScoredPoint(id=3, version=0, score=0.1939931447475377, payload={'text': 'Это тестовое предложение.', 'category': 'test'}, vector=None, shard_key=None, order_value=None)]"
      ]
     },
     "execution_count": 72,
     "metadata": {},
     "output_type": "execute_result"
    }
   ],
   "source": [
    "hits"
   ]
  },
  {
   "cell_type": "markdown",
   "id": "81090fe8",
   "metadata": {},
   "source": [
    "Параметр score_threshold позволяет отфильтровать результаты поиска, которые имеют низкий балл сходства, \n",
    "\n",
    "что полезно для исключения нерелевантных результатов. Поведение score_threshold зависит от используемой метрики расстояния: \n",
    "\n",
    "для косинусного сходства исключаются результаты с баллом ниже порога, а для евклидова расстояния — выше порога.\n",
    "**[Документация](https://qdrant.tech/documentation/concepts/search/)"
   ]
  },
  {
   "cell_type": "code",
   "execution_count": 73,
   "id": "2e4aefcd",
   "metadata": {},
   "outputs": [
    {
     "name": "stdout",
     "output_type": "stream",
     "text": [
      "\n",
      "Результаты поиска с порогом 0.5 для запроса 'как дела?':\n",
      "ID: 2, Text: Как дела?, Category: greeting, Score: 0.8052579267936519\n"
     ]
    }
   ],
   "source": [
    "hits_with_trashold = client.query_points(\n",
    "    collection_name=COLLECTION_NAME,\n",
    "    query=query_vector,\n",
    "    score_threshold=0.5,  # Устанавливаем порог для отбора результатов\n",
    ").points\n",
    "print(f\"\\nРезультаты поиска с порогом 0.5 для запроса '{query_text}':\")\n",
    "for hit in hits_with_trashold:\n",
    "    print(f\"ID: {hit.id}, Text: {hit.payload['text']}, Category: {hit.payload['category']}, Score: {hit.score}\")"
   ]
  },
  {
   "cell_type": "markdown",
   "id": "ac16c366",
   "metadata": {},
   "source": [
    "**Настройка параметров HNSW для оптимизации**\n",
    "\n",
    "HNSW (Hierarchical Navigable Small World) — это алгоритм индексации, используемый Qdrant для эффективного векторного поиска. \n",
    "\n",
    "Параметры HNSW, такие как m и ef_construct (при создании/обновлении коллекции), а также hnsw_ef (при выполнении запроса), влияют на баланс между скоростью поиска, точностью и потреблением памяти.   \n",
    "\n",
    "m: Максимальное количество связей для каждого узла в графе HNSW. Более высокое значение m увеличивает точность поиска, но также требует больше памяти и времени на построение индекса.\n",
    "\n",
    "ef_construct: Размер списка ближайших соседей, который рассматривается во время построения индекса. Большее значение ef_construct улучшает качество индекса, но увеличивает время его построения.\n",
    "\n",
    "hnsw_ef: Размер списка ближайших соседей, который рассматривается во время выполнения запроса. \n",
    "Большее значение hnsw_ef повышает точность поиска, но увеличивает время ответа на запрос.   \n"
   ]
  },
  {
   "cell_type": "code",
   "execution_count": 80,
   "id": "c3706df6",
   "metadata": {},
   "outputs": [
    {
     "name": "stdout",
     "output_type": "stream",
     "text": [
      "\n",
      "Результаты векторного поиска с SearchParams(hnsw_ef=128) для запроса 'как дела?':\n",
      "- ID: 2, Score: 0.8053, Text: 'Как дела?'\n",
      "- ID: 1, Score: 0.2915, Text: 'Привет, мир!'\n",
      "- ID: 3, Score: 0.1940, Text: 'Это тестовое предложение.'\n"
     ]
    }
   ],
   "source": [
    "from qdrant_client.models import SearchParams\n",
    "# Пример поиска с настроенным параметром hnsw_ef\n",
    "# Этот параметр влияет на точность и скорость поиска\n",
    "hits_optimized = client.query_points(\n",
    "    collection_name=COLLECTION_NAME,\n",
    "    query=query_vector,\n",
    "    limit=3,\n",
    "    search_params=SearchParams(\n",
    "        hnsw_ef=256, \n",
    "        exact=True), # Увеличиваем ef для потенциально лучшей точности\n",
    "    with_payload=True\n",
    ").points\n",
    "\n",
    "print(f\"\\nРезультаты векторного поиска с SearchParams(hnsw_ef=128) для запроса '{query_text}':\")\n",
    "for hit in hits_optimized:\n",
    "    print(f\"- ID: {hit.id}, Score: {hit.score:.4f}, Text: '{hit.payload.get('text')}'\")"
   ]
  }
 ],
 "metadata": {
  "kernelspec": {
   "display_name": ".venv",
   "language": "python",
   "name": "python3"
  },
  "language_info": {
   "codemirror_mode": {
    "name": "ipython",
    "version": 3
   },
   "file_extension": ".py",
   "mimetype": "text/x-python",
   "name": "python",
   "nbconvert_exporter": "python",
   "pygments_lexer": "ipython3",
   "version": "3.12.3"
  }
 },
 "nbformat": 4,
 "nbformat_minor": 5
}
